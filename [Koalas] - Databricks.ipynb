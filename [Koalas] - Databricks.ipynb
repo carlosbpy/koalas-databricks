{
 "cells": [
  {
   "cell_type": "code",
   "execution_count": 1,
   "id": "1d8ef91c",
   "metadata": {},
   "outputs": [
    {
     "name": "stderr",
     "output_type": "stream",
     "text": [
      "WARNING:root:'PYARROW_IGNORE_TIMEZONE' environment variable was not set. It is required to set this environment variable to '1' in both driver and executor sides if you use pyarrow>=2.0.0. Koalas will set it for you but it does not work if there is a Spark context already launched.\n"
     ]
    }
   ],
   "source": [
    "import databricks.koalas as ks\n",
    "import os\n",
    "\n",
    "# Para remover o warning\n",
    "os.environ[\"PYARROW_IGNORE_TIMEZONE\"] = \"1\""
   ]
  },
  {
   "cell_type": "markdown",
   "id": "ef1c3beb",
   "metadata": {},
   "source": [
    "### Leitura dos dados no Koalas - [Json]"
   ]
  },
  {
   "cell_type": "code",
   "execution_count": 2,
   "id": "70a343ff",
   "metadata": {},
   "outputs": [],
   "source": [
    "path_json_data_bank = os.path.abspath(\"landing-zone/bank/*.json\")\n",
    "path_json_data_user = os.path.abspath(\"landing-zone/user/*.json\")"
   ]
  },
  {
   "cell_type": "code",
   "execution_count": 3,
   "id": "cfde496a",
   "metadata": {},
   "outputs": [
    {
     "name": "stdout",
     "output_type": "stream",
     "text": [
      "CPU times: user 37.7 ms, sys: 22.1 ms, total: 59.8 ms\n",
      "Wall time: 11.7 s\n"
     ]
    },
    {
     "data": {
      "text/html": [
       "<div>\n",
       "<style scoped>\n",
       "    .dataframe tbody tr th:only-of-type {\n",
       "        vertical-align: middle;\n",
       "    }\n",
       "\n",
       "    .dataframe tbody tr th {\n",
       "        vertical-align: top;\n",
       "    }\n",
       "\n",
       "    .dataframe thead th {\n",
       "        text-align: right;\n",
       "    }\n",
       "</style>\n",
       "<table border=\"1\" class=\"dataframe\">\n",
       "  <thead>\n",
       "    <tr style=\"text-align: right;\">\n",
       "      <th></th>\n",
       "      <th>account_number</th>\n",
       "      <th>bank_name</th>\n",
       "      <th>dt_current_timestamp</th>\n",
       "      <th>iban</th>\n",
       "      <th>id</th>\n",
       "      <th>routing_number</th>\n",
       "      <th>swift_bic</th>\n",
       "      <th>uid</th>\n",
       "      <th>user_id</th>\n",
       "    </tr>\n",
       "  </thead>\n",
       "  <tbody>\n",
       "    <tr>\n",
       "      <th>0</th>\n",
       "      <td>7320834088</td>\n",
       "      <td>ABN AMRO HOARE GOVETT SECURITIES</td>\n",
       "      <td>1621352186397</td>\n",
       "      <td>GB50RCLB43517671582596</td>\n",
       "      <td>4796</td>\n",
       "      <td>251572316</td>\n",
       "      <td>BOFAGB4TIPA</td>\n",
       "      <td>e90b2938-deb5-430f-ad77-ac441650a0a1</td>\n",
       "      <td>9975</td>\n",
       "    </tr>\n",
       "    <tr>\n",
       "      <th>1</th>\n",
       "      <td>7467060749</td>\n",
       "      <td>ABN AMRO MEZZANINE (UK) LIMITED</td>\n",
       "      <td>1621352186397</td>\n",
       "      <td>GB44TYKV55102270018253</td>\n",
       "      <td>861</td>\n",
       "      <td>300679144</td>\n",
       "      <td>ANTSGB2LCHA</td>\n",
       "      <td>f6fa9d04-f772-4b0a-b0b6-c2bdc156aad6</td>\n",
       "      <td>9926</td>\n",
       "    </tr>\n",
       "    <tr>\n",
       "      <th>2</th>\n",
       "      <td>5010092952</td>\n",
       "      <td>ABN AMRO HOARE GOVETT SECURITIES</td>\n",
       "      <td>1621352186397</td>\n",
       "      <td>GB87IIXG13461744634372</td>\n",
       "      <td>1807</td>\n",
       "      <td>706669295</td>\n",
       "      <td>UBKLGB2LXXX</td>\n",
       "      <td>454a5b80-65eb-4588-92dc-2dd18ae31a97</td>\n",
       "      <td>5981</td>\n",
       "    </tr>\n",
       "    <tr>\n",
       "      <th>3</th>\n",
       "      <td>2038687205</td>\n",
       "      <td>UBS CLEARING AND EXECUTION SERVICES LIMITED</td>\n",
       "      <td>1621352186397</td>\n",
       "      <td>GB00SNQA49366527978036</td>\n",
       "      <td>1953</td>\n",
       "      <td>679077561</td>\n",
       "      <td>AANLGB2L</td>\n",
       "      <td>7c603e59-125f-42b5-bd18-dc1feb91e685</td>\n",
       "      <td>6756</td>\n",
       "    </tr>\n",
       "    <tr>\n",
       "      <th>4</th>\n",
       "      <td>1587066166</td>\n",
       "      <td>ABN AMRO HOARE GOVETT CORPORATE FINANCE LTD.</td>\n",
       "      <td>1621352186397</td>\n",
       "      <td>GB42TNIE33408504387045</td>\n",
       "      <td>9434</td>\n",
       "      <td>098879573</td>\n",
       "      <td>BCYPGB2LCSB</td>\n",
       "      <td>56e873c5-d510-47eb-af3d-77462b931eb3</td>\n",
       "      <td>9175</td>\n",
       "    </tr>\n",
       "  </tbody>\n",
       "</table>\n",
       "</div>"
      ],
      "text/plain": [
       "  account_number                                     bank_name  dt_current_timestamp                    iban    id routing_number    swift_bic                                   uid  user_id\n",
       "0     7320834088              ABN AMRO HOARE GOVETT SECURITIES         1621352186397  GB50RCLB43517671582596  4796      251572316  BOFAGB4TIPA  e90b2938-deb5-430f-ad77-ac441650a0a1     9975\n",
       "1     7467060749               ABN AMRO MEZZANINE (UK) LIMITED         1621352186397  GB44TYKV55102270018253   861      300679144  ANTSGB2LCHA  f6fa9d04-f772-4b0a-b0b6-c2bdc156aad6     9926\n",
       "2     5010092952              ABN AMRO HOARE GOVETT SECURITIES         1621352186397  GB87IIXG13461744634372  1807      706669295  UBKLGB2LXXX  454a5b80-65eb-4588-92dc-2dd18ae31a97     5981\n",
       "3     2038687205   UBS CLEARING AND EXECUTION SERVICES LIMITED         1621352186397  GB00SNQA49366527978036  1953      679077561     AANLGB2L  7c603e59-125f-42b5-bd18-dc1feb91e685     6756\n",
       "4     1587066166  ABN AMRO HOARE GOVETT CORPORATE FINANCE LTD.         1621352186397  GB42TNIE33408504387045  9434      098879573  BCYPGB2LCSB  56e873c5-d510-47eb-af3d-77462b931eb3     9175"
      ]
     },
     "execution_count": 3,
     "metadata": {},
     "output_type": "execute_result"
    }
   ],
   "source": [
    "%%time\n",
    "kdf_bank = ks.read_spark_io(path_json_data_bank, \n",
    "                      format=\"json\")\n",
    "kdf_bank.head()"
   ]
  },
  {
   "cell_type": "code",
   "execution_count": 4,
   "id": "cca8cabf",
   "metadata": {},
   "outputs": [
    {
     "name": "stdout",
     "output_type": "stream",
     "text": [
      "CPU times: user 33.2 ms, sys: 11.9 ms, total: 45.1 ms\n",
      "Wall time: 1.4 s\n"
     ]
    },
    {
     "data": {
      "text/html": [
       "<div>\n",
       "<style scoped>\n",
       "    .dataframe tbody tr th:only-of-type {\n",
       "        vertical-align: middle;\n",
       "    }\n",
       "\n",
       "    .dataframe tbody tr th {\n",
       "        vertical-align: top;\n",
       "    }\n",
       "\n",
       "    .dataframe thead th {\n",
       "        text-align: right;\n",
       "    }\n",
       "</style>\n",
       "<table border=\"1\" class=\"dataframe\">\n",
       "  <thead>\n",
       "    <tr style=\"text-align: right;\">\n",
       "      <th></th>\n",
       "      <th>address</th>\n",
       "      <th>avatar</th>\n",
       "      <th>credit_card</th>\n",
       "      <th>date_of_birth</th>\n",
       "      <th>dt_current_timestamp</th>\n",
       "      <th>email</th>\n",
       "      <th>employment</th>\n",
       "      <th>first_name</th>\n",
       "      <th>gender</th>\n",
       "      <th>id</th>\n",
       "      <th>last_name</th>\n",
       "      <th>password</th>\n",
       "      <th>phone_number</th>\n",
       "      <th>social_insurance_number</th>\n",
       "      <th>subscription</th>\n",
       "      <th>uid</th>\n",
       "      <th>user_id</th>\n",
       "      <th>username</th>\n",
       "    </tr>\n",
       "  </thead>\n",
       "  <tbody>\n",
       "    <tr>\n",
       "      <th>0</th>\n",
       "      <td>(Casieport, (-21.9513001404, -119.0706314586),...</td>\n",
       "      <td>https://robohash.org/ullametiure.png?size=300x...</td>\n",
       "      <td>(4135594648602,)</td>\n",
       "      <td>1986-11-08</td>\n",
       "      <td>1619454547663</td>\n",
       "      <td>daron.bailey@email.com</td>\n",
       "      <td>(Confidence, Global Farming Director)</td>\n",
       "      <td>Daron</td>\n",
       "      <td>Non-binary</td>\n",
       "      <td>633</td>\n",
       "      <td>Bailey</td>\n",
       "      <td>OWdxrKXf8t</td>\n",
       "      <td>+43 396-218-0539</td>\n",
       "      <td>477348544</td>\n",
       "      <td>(Money transfer, Business, Pending, Payment in...</td>\n",
       "      <td>6353cec5-67b5-4ef6-98c1-fe2ac6fd9b39</td>\n",
       "      <td>1703</td>\n",
       "      <td>daron.bailey</td>\n",
       "    </tr>\n",
       "    <tr>\n",
       "      <th>1</th>\n",
       "      <td>(East Scottieshire, (37.318270933, 177.1561190...</td>\n",
       "      <td>https://robohash.org/voluptassaepedolorem.png?...</td>\n",
       "      <td>(5318-8912-1789-0449,)</td>\n",
       "      <td>1999-04-18</td>\n",
       "      <td>1619454547663</td>\n",
       "      <td>jonah.barrows@email.com</td>\n",
       "      <td>(Networking skills, Farming Director)</td>\n",
       "      <td>Jonah</td>\n",
       "      <td>Bigender</td>\n",
       "      <td>3098</td>\n",
       "      <td>Barrows</td>\n",
       "      <td>SFWcEO96ql</td>\n",
       "      <td>+996 1-404-010-5986</td>\n",
       "      <td>195202718</td>\n",
       "      <td>(Paypal, Platinum, Pending, Monthly)</td>\n",
       "      <td>0acd419c-38cd-4288-92f9-4b0bea66f977</td>\n",
       "      <td>3650</td>\n",
       "      <td>jonah.barrows</td>\n",
       "    </tr>\n",
       "    <tr>\n",
       "      <th>2</th>\n",
       "      <td>(Zboncakburgh, (-28.5286547708, 107.8798589834...</td>\n",
       "      <td>https://robohash.org/pariaturexplicabocumque.p...</td>\n",
       "      <td>(4797181467439,)</td>\n",
       "      <td>1986-11-29</td>\n",
       "      <td>1619454547663</td>\n",
       "      <td>carla.hansen@email.com</td>\n",
       "      <td>(Fast learner, Government Specialist)</td>\n",
       "      <td>Carla</td>\n",
       "      <td>Agender</td>\n",
       "      <td>6775</td>\n",
       "      <td>Hansen</td>\n",
       "      <td>n7BSCGcJo3</td>\n",
       "      <td>+46 (993) 071-3591 x78808</td>\n",
       "      <td>387921133</td>\n",
       "      <td>(Alipay, Essential, Blocked, Annual)</td>\n",
       "      <td>cc2fe946-74a7-4124-8059-15a40a0d8456</td>\n",
       "      <td>8809</td>\n",
       "      <td>carla.hansen</td>\n",
       "    </tr>\n",
       "    <tr>\n",
       "      <th>3</th>\n",
       "      <td>(Orvilleton, (-2.8510364418, -33.5570011509), ...</td>\n",
       "      <td>https://robohash.org/nonerrorperspiciatis.png?...</td>\n",
       "      <td>(5144-7746-3505-4790,)</td>\n",
       "      <td>1985-07-06</td>\n",
       "      <td>1619454547663</td>\n",
       "      <td>tomas.ledner@email.com</td>\n",
       "      <td>(Teamwork, Regional IT Executive)</td>\n",
       "      <td>Tomas</td>\n",
       "      <td>Genderfluid</td>\n",
       "      <td>3169</td>\n",
       "      <td>Ledner</td>\n",
       "      <td>dTgI3l527Q</td>\n",
       "      <td>+670 (895) 368-6766 x62419</td>\n",
       "      <td>133909176</td>\n",
       "      <td>(WeChat Pay, Bronze, Blocked, Monthly)</td>\n",
       "      <td>5ab9e8fe-dfb7-4bd6-b051-8a9595ae68dd</td>\n",
       "      <td>4606</td>\n",
       "      <td>tomas.ledner</td>\n",
       "    </tr>\n",
       "    <tr>\n",
       "      <th>4</th>\n",
       "      <td>(Kossshire, (61.6600622624, 53.0945866926), Un...</td>\n",
       "      <td>https://robohash.org/doloremdoloreiusto.png?si...</td>\n",
       "      <td>(4678-2840-8490-6919,)</td>\n",
       "      <td>1996-01-18</td>\n",
       "      <td>1619454547663</td>\n",
       "      <td>alyse.ortiz@email.com</td>\n",
       "      <td>(Confidence, Principal Coordinator)</td>\n",
       "      <td>Alyse</td>\n",
       "      <td>Bigender</td>\n",
       "      <td>2625</td>\n",
       "      <td>Ortiz</td>\n",
       "      <td>rVtSd4C36B</td>\n",
       "      <td>+1-441 1-386-088-9407</td>\n",
       "      <td>671832939</td>\n",
       "      <td>(Credit card, Platinum, Pending, Monthly)</td>\n",
       "      <td>799eebc4-6172-4db3-af27-77c9d6f8db05</td>\n",
       "      <td>1</td>\n",
       "      <td>alyse.ortiz</td>\n",
       "    </tr>\n",
       "  </tbody>\n",
       "</table>\n",
       "</div>"
      ],
      "text/plain": [
       "                                                                                                                              address                                                                  avatar             credit_card date_of_birth  dt_current_timestamp                    email                             employment first_name       gender    id last_name    password                phone_number social_insurance_number                                             subscription                                   uid  user_id       username\n",
       "0            (Casieport, (-21.9513001404, -119.0706314586), United States, Tennessee, 94174 Necole Villages, Bess Shoals, 94746-3407)              https://robohash.org/ullametiure.png?size=300x300&set=set1        (4135594648602,)    1986-11-08         1619454547663   daron.bailey@email.com  (Confidence, Global Farming Director)      Daron   Non-binary   633    Bailey  OWdxrKXf8t            +43 396-218-0539               477348544  (Money transfer, Business, Pending, Payment in advance)  6353cec5-67b5-4ef6-98c1-fe2ac6fd9b39     1703   daron.bailey\n",
       "1  (East Scottieshire, (37.318270933, 177.1561190321), United States, Connecticut, 3534 Steuber Walk, Cruickshank Summit, 62313-1689)     https://robohash.org/voluptassaepedolorem.png?size=300x300&set=set1  (5318-8912-1789-0449,)    1999-04-18         1619454547663  jonah.barrows@email.com  (Networking skills, Farming Director)      Jonah     Bigender  3098   Barrows  SFWcEO96ql         +996 1-404-010-5986               195202718                     (Paypal, Platinum, Pending, Monthly)  0acd419c-38cd-4288-92f9-4b0bea66f977     3650  jonah.barrows\n",
       "2         (Zboncakburgh, (-28.5286547708, 107.8798589834), United States, Massachusetts, 23529 Gleichner Shores, Effertz Ramp, 96238)  https://robohash.org/pariaturexplicabocumque.png?size=300x300&set=set1        (4797181467439,)    1986-11-29         1619454547663   carla.hansen@email.com  (Fast learner, Government Specialist)      Carla      Agender  6775    Hansen  n7BSCGcJo3   +46 (993) 071-3591 x78808               387921133                     (Alipay, Essential, Blocked, Annual)  cc2fe946-74a7-4124-8059-15a40a0d8456     8809   carla.hansen\n",
       "3            (Orvilleton, (-2.8510364418, -33.5570011509), United States, Massachusetts, 3548 Kling Walks, Cartwright Viaduct, 09423)     https://robohash.org/nonerrorperspiciatis.png?size=300x300&set=set1  (5144-7746-3505-4790,)    1985-07-06         1619454547663   tomas.ledner@email.com      (Teamwork, Regional IT Executive)      Tomas  Genderfluid  3169    Ledner  dTgI3l527Q  +670 (895) 368-6766 x62419               133909176                   (WeChat Pay, Bronze, Blocked, Monthly)  5ab9e8fe-dfb7-4bd6-b051-8a9595ae68dd     4606   tomas.ledner\n",
       "4                      (Kossshire, (61.6600622624, 53.0945866926), United States, Illinois, 206 Royce Mill, Keebler Stravenue, 24720)       https://robohash.org/doloremdoloreiusto.png?size=300x300&set=set1  (4678-2840-8490-6919,)    1996-01-18         1619454547663    alyse.ortiz@email.com    (Confidence, Principal Coordinator)      Alyse     Bigender  2625     Ortiz  rVtSd4C36B       +1-441 1-386-088-9407               671832939                (Credit card, Platinum, Pending, Monthly)  799eebc4-6172-4db3-af27-77c9d6f8db05        1    alyse.ortiz"
      ]
     },
     "execution_count": 4,
     "metadata": {},
     "output_type": "execute_result"
    }
   ],
   "source": [
    "%%time\n",
    "kdf_user = ks.read_spark_io(path_json_data_user, \n",
    "                      format=\"json\")\n",
    "kdf_user.head()"
   ]
  },
  {
   "cell_type": "markdown",
   "id": "43f4c4f5",
   "metadata": {},
   "source": [
    "### Escrita dos dados no Koalas - [Parquet]"
   ]
  },
  {
   "cell_type": "code",
   "execution_count": 5,
   "id": "650667ac",
   "metadata": {},
   "outputs": [
    {
     "name": "stdout",
     "output_type": "stream",
     "text": [
      "CPU times: user 2.78 ms, sys: 1.86 ms, total: 4.64 ms\n",
      "Wall time: 3.47 s\n"
     ]
    }
   ],
   "source": [
    "%%time\n",
    "kdf_bank.to_parquet(os.path.abspath(\"processing-zone/bank/\"), mode=\"overwrite\")\n",
    "kdf_user.to_parquet(os.path.abspath(\"processing-zone/user/\"), mode=\"overwrite\")"
   ]
  },
  {
   "cell_type": "code",
   "execution_count": 6,
   "id": "9e9c2a8b",
   "metadata": {},
   "outputs": [],
   "source": [
    "path_parquet_data_bank = os.path.abspath(\"processing-zone/bank/*.parquet\")\n",
    "path_parquet_data_user = os.path.abspath(\"processing-zone/user/*.parquet\")"
   ]
  },
  {
   "cell_type": "markdown",
   "id": "cd06581b",
   "metadata": {},
   "source": [
    "### Leitura dos dados no Koalas - [Parquet]"
   ]
  },
  {
   "cell_type": "code",
   "execution_count": 7,
   "id": "9bd51db4",
   "metadata": {},
   "outputs": [
    {
     "name": "stdout",
     "output_type": "stream",
     "text": [
      "CPU times: user 23.6 ms, sys: 11.1 ms, total: 34.7 ms\n",
      "Wall time: 851 ms\n"
     ]
    },
    {
     "data": {
      "text/html": [
       "<div>\n",
       "<style scoped>\n",
       "    .dataframe tbody tr th:only-of-type {\n",
       "        vertical-align: middle;\n",
       "    }\n",
       "\n",
       "    .dataframe tbody tr th {\n",
       "        vertical-align: top;\n",
       "    }\n",
       "\n",
       "    .dataframe thead th {\n",
       "        text-align: right;\n",
       "    }\n",
       "</style>\n",
       "<table border=\"1\" class=\"dataframe\">\n",
       "  <thead>\n",
       "    <tr style=\"text-align: right;\">\n",
       "      <th></th>\n",
       "      <th>account_number</th>\n",
       "      <th>bank_name</th>\n",
       "      <th>dt_current_timestamp</th>\n",
       "      <th>iban</th>\n",
       "      <th>id</th>\n",
       "      <th>routing_number</th>\n",
       "      <th>swift_bic</th>\n",
       "      <th>uid</th>\n",
       "      <th>user_id</th>\n",
       "    </tr>\n",
       "  </thead>\n",
       "  <tbody>\n",
       "    <tr>\n",
       "      <th>0</th>\n",
       "      <td>0267608433</td>\n",
       "      <td>ABN AMRO CORPORATE FINANCE LIMITED</td>\n",
       "      <td>1619454485308</td>\n",
       "      <td>GB78DZFZ38063088452320</td>\n",
       "      <td>1957</td>\n",
       "      <td>295965484</td>\n",
       "      <td>BSABGB2LXXX</td>\n",
       "      <td>8b3f376b-0adf-4f86-bb40-6aa2d8ba708d</td>\n",
       "      <td>5641</td>\n",
       "    </tr>\n",
       "    <tr>\n",
       "      <th>1</th>\n",
       "      <td>7052327864</td>\n",
       "      <td>ABN AMRO HOARE GOVETT SECURITIES</td>\n",
       "      <td>1619454485308</td>\n",
       "      <td>GB29ZZRW63422245133877</td>\n",
       "      <td>4911</td>\n",
       "      <td>274059719</td>\n",
       "      <td>AAFMGB21</td>\n",
       "      <td>0bb4c571-a21d-4616-9d8f-0b5ba0bd7868</td>\n",
       "      <td>3006</td>\n",
       "    </tr>\n",
       "    <tr>\n",
       "      <th>2</th>\n",
       "      <td>3296123731</td>\n",
       "      <td>ABINGWORTH MANAGEMENT LIMITED</td>\n",
       "      <td>1619454485308</td>\n",
       "      <td>GB27LPUN51436522350891</td>\n",
       "      <td>5275</td>\n",
       "      <td>314786939</td>\n",
       "      <td>BSABGB2LXXX</td>\n",
       "      <td>c3d9ea2c-5e58-4164-b9cf-a84bc4ebc377</td>\n",
       "      <td>9348</td>\n",
       "    </tr>\n",
       "    <tr>\n",
       "      <th>3</th>\n",
       "      <td>3455902680</td>\n",
       "      <td>UBS CLEARING AND EXECUTION SERVICES LIMITED</td>\n",
       "      <td>1619454485308</td>\n",
       "      <td>GB84VPOW30351189216558</td>\n",
       "      <td>7312</td>\n",
       "      <td>256999143</td>\n",
       "      <td>AIBKGB2XTSY</td>\n",
       "      <td>c188b6ac-e5da-4c94-b0c2-5451cbe3a28d</td>\n",
       "      <td>4920</td>\n",
       "    </tr>\n",
       "    <tr>\n",
       "      <th>4</th>\n",
       "      <td>6799197420</td>\n",
       "      <td>ABN AMRO QUOTED INVESTMENTS (UK) LIMITED</td>\n",
       "      <td>1619454485308</td>\n",
       "      <td>GB73LSLX97621314346559</td>\n",
       "      <td>1428</td>\n",
       "      <td>219280860</td>\n",
       "      <td>BOFAGB22SEC</td>\n",
       "      <td>72a2f0eb-657b-477b-98d3-6e731afe04a4</td>\n",
       "      <td>9612</td>\n",
       "    </tr>\n",
       "  </tbody>\n",
       "</table>\n",
       "</div>"
      ],
      "text/plain": [
       "  account_number                                    bank_name  dt_current_timestamp                    iban    id routing_number    swift_bic                                   uid  user_id\n",
       "0     0267608433           ABN AMRO CORPORATE FINANCE LIMITED         1619454485308  GB78DZFZ38063088452320  1957      295965484  BSABGB2LXXX  8b3f376b-0adf-4f86-bb40-6aa2d8ba708d     5641\n",
       "1     7052327864             ABN AMRO HOARE GOVETT SECURITIES         1619454485308  GB29ZZRW63422245133877  4911      274059719     AAFMGB21  0bb4c571-a21d-4616-9d8f-0b5ba0bd7868     3006\n",
       "2     3296123731                ABINGWORTH MANAGEMENT LIMITED         1619454485308  GB27LPUN51436522350891  5275      314786939  BSABGB2LXXX  c3d9ea2c-5e58-4164-b9cf-a84bc4ebc377     9348\n",
       "3     3455902680  UBS CLEARING AND EXECUTION SERVICES LIMITED         1619454485308  GB84VPOW30351189216558  7312      256999143  AIBKGB2XTSY  c188b6ac-e5da-4c94-b0c2-5451cbe3a28d     4920\n",
       "4     6799197420     ABN AMRO QUOTED INVESTMENTS (UK) LIMITED         1619454485308  GB73LSLX97621314346559  1428      219280860  BOFAGB22SEC  72a2f0eb-657b-477b-98d3-6e731afe04a4     9612"
      ]
     },
     "execution_count": 7,
     "metadata": {},
     "output_type": "execute_result"
    }
   ],
   "source": [
    "%%time\n",
    "kdf_bank = ks.read_spark_io(path_parquet_data_bank, \n",
    "                      format=\"parquet\")\n",
    "kdf_bank.head()"
   ]
  },
  {
   "cell_type": "code",
   "execution_count": 8,
   "id": "d4f60c2a",
   "metadata": {},
   "outputs": [
    {
     "name": "stdout",
     "output_type": "stream",
     "text": [
      "CPU times: user 34.4 ms, sys: 11.7 ms, total: 46.2 ms\n",
      "Wall time: 808 ms\n"
     ]
    },
    {
     "data": {
      "text/html": [
       "<div>\n",
       "<style scoped>\n",
       "    .dataframe tbody tr th:only-of-type {\n",
       "        vertical-align: middle;\n",
       "    }\n",
       "\n",
       "    .dataframe tbody tr th {\n",
       "        vertical-align: top;\n",
       "    }\n",
       "\n",
       "    .dataframe thead th {\n",
       "        text-align: right;\n",
       "    }\n",
       "</style>\n",
       "<table border=\"1\" class=\"dataframe\">\n",
       "  <thead>\n",
       "    <tr style=\"text-align: right;\">\n",
       "      <th></th>\n",
       "      <th>address</th>\n",
       "      <th>avatar</th>\n",
       "      <th>credit_card</th>\n",
       "      <th>date_of_birth</th>\n",
       "      <th>dt_current_timestamp</th>\n",
       "      <th>email</th>\n",
       "      <th>employment</th>\n",
       "      <th>first_name</th>\n",
       "      <th>gender</th>\n",
       "      <th>id</th>\n",
       "      <th>last_name</th>\n",
       "      <th>password</th>\n",
       "      <th>phone_number</th>\n",
       "      <th>social_insurance_number</th>\n",
       "      <th>subscription</th>\n",
       "      <th>uid</th>\n",
       "      <th>user_id</th>\n",
       "      <th>username</th>\n",
       "    </tr>\n",
       "  </thead>\n",
       "  <tbody>\n",
       "    <tr>\n",
       "      <th>0</th>\n",
       "      <td>(Ismaelview, (85.4601189775, -42.5833978382), ...</td>\n",
       "      <td>https://robohash.org/aliquidnobiserror.png?siz...</td>\n",
       "      <td>(6771-8932-7326-9847,)</td>\n",
       "      <td>1995-03-19</td>\n",
       "      <td>1621423978818</td>\n",
       "      <td>leonardo.adams@email.com</td>\n",
       "      <td>(Organisation, Consulting Assistant)</td>\n",
       "      <td>Leonardo</td>\n",
       "      <td>Bigender</td>\n",
       "      <td>3707</td>\n",
       "      <td>Adams</td>\n",
       "      <td>W1nirBgqVT</td>\n",
       "      <td>+850 847.401.4566 x82887</td>\n",
       "      <td>196526628</td>\n",
       "      <td>(Money transfer, Essential, Idle, Annual)</td>\n",
       "      <td>5dcacedc-f75b-4568-872c-6cc2a71705f2</td>\n",
       "      <td>4965</td>\n",
       "      <td>leonardo.adams</td>\n",
       "    </tr>\n",
       "    <tr>\n",
       "      <th>1</th>\n",
       "      <td>(Lake Taisha, (-2.1984324156, 116.8514711846),...</td>\n",
       "      <td>https://robohash.org/delenitiasperioressit.png...</td>\n",
       "      <td>(4325-2108-3118-7252,)</td>\n",
       "      <td>1956-12-19</td>\n",
       "      <td>1621423978818</td>\n",
       "      <td>jarred.walker@email.com</td>\n",
       "      <td>(Confidence, Administration Agent)</td>\n",
       "      <td>Jarred</td>\n",
       "      <td>Polygender</td>\n",
       "      <td>4941</td>\n",
       "      <td>Walker</td>\n",
       "      <td>IihGFkrxTv</td>\n",
       "      <td>+53 181-453-3227 x5763</td>\n",
       "      <td>493978720</td>\n",
       "      <td>(Money transfer, Student, Idle, Full subscript...</td>\n",
       "      <td>5d8058ad-676b-4b89-b154-1e03bc675ede</td>\n",
       "      <td>8560</td>\n",
       "      <td>jarred.walker</td>\n",
       "    </tr>\n",
       "    <tr>\n",
       "      <th>2</th>\n",
       "      <td>(Cummingschester, (63.8048328901, -66.67869394...</td>\n",
       "      <td>https://robohash.org/velitnonid.png?size=300x3...</td>\n",
       "      <td>(6771-8980-3619-5908,)</td>\n",
       "      <td>1993-07-10</td>\n",
       "      <td>1621423978818</td>\n",
       "      <td>ezra.brown@email.com</td>\n",
       "      <td>(Problem solving, Regional Administrator)</td>\n",
       "      <td>Ezra</td>\n",
       "      <td>Male</td>\n",
       "      <td>3909</td>\n",
       "      <td>Brown</td>\n",
       "      <td>Xx6bYuMyFp</td>\n",
       "      <td>+27 1-673-818-7444 x01270</td>\n",
       "      <td>208208074</td>\n",
       "      <td>(Bitcoins, Free Trial, Idle, Annual)</td>\n",
       "      <td>ac909be8-949d-4b40-bffc-00ee1905cb90</td>\n",
       "      <td>4708</td>\n",
       "      <td>ezra.brown</td>\n",
       "    </tr>\n",
       "    <tr>\n",
       "      <th>3</th>\n",
       "      <td>(Port Aprilland, (-27.2462294931, -25.88720299...</td>\n",
       "      <td>https://robohash.org/facerenamtemporibus.png?s...</td>\n",
       "      <td>(6771-8933-3925-1805,)</td>\n",
       "      <td>1977-04-21</td>\n",
       "      <td>1621423978818</td>\n",
       "      <td>valda.jacobi@email.com</td>\n",
       "      <td>(Problem solving, National Legal Liaison)</td>\n",
       "      <td>Valda</td>\n",
       "      <td>Genderfluid</td>\n",
       "      <td>2531</td>\n",
       "      <td>Jacobi</td>\n",
       "      <td>zInlShuGdy</td>\n",
       "      <td>+356 1-136-227-8892 x457</td>\n",
       "      <td>626072177</td>\n",
       "      <td>(Cheque, Free Trial, Idle, Payment in advance)</td>\n",
       "      <td>e4fa182c-f9c4-4cfc-8185-0ff3ffdd3168</td>\n",
       "      <td>7462</td>\n",
       "      <td>valda.jacobi</td>\n",
       "    </tr>\n",
       "    <tr>\n",
       "      <th>4</th>\n",
       "      <td>(West Candelariaborough, (-65.3103387251, 167....</td>\n",
       "      <td>https://robohash.org/pariaturmagnilaboriosam.p...</td>\n",
       "      <td>(4708-0672-7336-6969,)</td>\n",
       "      <td>1959-05-18</td>\n",
       "      <td>1621423978818</td>\n",
       "      <td>russel.batz@email.com</td>\n",
       "      <td>(Organisation, Senior Facilitator)</td>\n",
       "      <td>Russel</td>\n",
       "      <td>Male</td>\n",
       "      <td>2609</td>\n",
       "      <td>Batz</td>\n",
       "      <td>2NaJpfWj8B</td>\n",
       "      <td>+39 800-778-2977</td>\n",
       "      <td>519832836</td>\n",
       "      <td>(Credit card, Gold, Pending, Payment in advance)</td>\n",
       "      <td>d6fb351c-9bea-43d4-aa24-ac79e4369e25</td>\n",
       "      <td>2359</td>\n",
       "      <td>russel.batz</td>\n",
       "    </tr>\n",
       "  </tbody>\n",
       "</table>\n",
       "</div>"
      ],
      "text/plain": [
       "                                                                                                                                   address                                                                  avatar             credit_card date_of_birth  dt_current_timestamp                     email                                 employment first_name       gender    id last_name    password               phone_number social_insurance_number                                        subscription                                   uid  user_id        username\n",
       "0                       (Ismaelview, (85.4601189775, -42.5833978382), United States, Arizona, 679 Micah Gardens, August Vista, 75162-6239)        https://robohash.org/aliquidnobiserror.png?size=300x300&set=set1  (6771-8932-7326-9847,)    1995-03-19         1621423978818  leonardo.adams@email.com       (Organisation, Consulting Assistant)   Leonardo     Bigender  3707     Adams  W1nirBgqVT   +850 847.401.4566 x82887               196526628           (Money transfer, Essential, Idle, Annual)  5dcacedc-f75b-4568-872c-6cc2a71705f2     4965  leonardo.adams\n",
       "1                          (Lake Taisha, (-2.1984324156, 116.8514711846), United States, Virginia, 545 Nichelle Place, Barrows Dam, 69778)    https://robohash.org/delenitiasperioressit.png?size=300x300&set=set1  (4325-2108-3118-7252,)    1956-12-19         1621423978818   jarred.walker@email.com         (Confidence, Administration Agent)     Jarred   Polygender  4941    Walker  IihGFkrxTv     +53 181-453-3227 x5763               493978720  (Money transfer, Student, Idle, Full subscription)  5d8058ad-676b-4b89-b154-1e03bc675ede     8560   jarred.walker\n",
       "2                     (Cummingschester, (63.8048328901, -66.678693947), United States, Georgia, 5873 Royal Avenue, O'Connell Place, 53885)               https://robohash.org/velitnonid.png?size=300x300&set=set1  (6771-8980-3619-5908,)    1993-07-10         1621423978818      ezra.brown@email.com  (Problem solving, Regional Administrator)       Ezra         Male  3909     Brown  Xx6bYuMyFp  +27 1-673-818-7444 x01270               208208074                (Bitcoins, Free Trial, Idle, Annual)  ac909be8-949d-4b40-bffc-00ee1905cb90     4708      ezra.brown\n",
       "3              (Port Aprilland, (-27.2462294931, -25.8872029973), United States, New Jersey, 132 Elvis Avenue, Maxwell Stream, 15895-6351)      https://robohash.org/facerenamtemporibus.png?size=300x300&set=set1  (6771-8933-3925-1805,)    1977-04-21         1621423978818    valda.jacobi@email.com  (Problem solving, National Legal Liaison)      Valda  Genderfluid  2531    Jacobi  zInlShuGdy   +356 1-136-227-8892 x457               626072177      (Cheque, Free Trial, Idle, Payment in advance)  e4fa182c-f9c4-4cfc-8185-0ff3ffdd3168     7462    valda.jacobi\n",
       "4  (West Candelariaborough, (-65.3103387251, 167.3336162105), United States, Idaho, 64084 O'Hara Junction, Margherita Circles, 23059-5740)  https://robohash.org/pariaturmagnilaboriosam.png?size=300x300&set=set1  (4708-0672-7336-6969,)    1959-05-18         1621423978818     russel.batz@email.com         (Organisation, Senior Facilitator)     Russel         Male  2609      Batz  2NaJpfWj8B           +39 800-778-2977               519832836    (Credit card, Gold, Pending, Payment in advance)  d6fb351c-9bea-43d4-aa24-ac79e4369e25     2359     russel.batz"
      ]
     },
     "execution_count": 8,
     "metadata": {},
     "output_type": "execute_result"
    }
   ],
   "source": [
    "%%time\n",
    "kdf_user = ks.read_spark_io(path_parquet_data_user, \n",
    "                      format=\"parquet\")\n",
    "kdf_user.head()"
   ]
  },
  {
   "cell_type": "markdown",
   "id": "2e0ba225",
   "metadata": {},
   "source": [
    "- Verificando Schemas dos DataFrames"
   ]
  },
  {
   "cell_type": "code",
   "execution_count": 9,
   "id": "614f0ff6",
   "metadata": {},
   "outputs": [
    {
     "name": "stdout",
     "output_type": "stream",
     "text": [
      "root\n",
      " |-- account_number: string (nullable = true)\n",
      " |-- bank_name: string (nullable = true)\n",
      " |-- dt_current_timestamp: long (nullable = true)\n",
      " |-- iban: string (nullable = true)\n",
      " |-- id: long (nullable = true)\n",
      " |-- routing_number: string (nullable = true)\n",
      " |-- swift_bic: string (nullable = true)\n",
      " |-- uid: string (nullable = true)\n",
      " |-- user_id: long (nullable = true)\n",
      "\n"
     ]
    }
   ],
   "source": [
    "kdf_bank.spark.print_schema()"
   ]
  },
  {
   "cell_type": "code",
   "execution_count": 10,
   "id": "d9d00686",
   "metadata": {},
   "outputs": [
    {
     "name": "stdout",
     "output_type": "stream",
     "text": [
      "root\n",
      " |-- address: struct (nullable = true)\n",
      " |    |-- city: string (nullable = true)\n",
      " |    |-- coordinates: struct (nullable = true)\n",
      " |    |    |-- lat: double (nullable = true)\n",
      " |    |    |-- lng: double (nullable = true)\n",
      " |    |-- country: string (nullable = true)\n",
      " |    |-- state: string (nullable = true)\n",
      " |    |-- street_address: string (nullable = true)\n",
      " |    |-- street_name: string (nullable = true)\n",
      " |    |-- zip_code: string (nullable = true)\n",
      " |-- avatar: string (nullable = true)\n",
      " |-- credit_card: struct (nullable = true)\n",
      " |    |-- cc_number: string (nullable = true)\n",
      " |-- date_of_birth: string (nullable = true)\n",
      " |-- dt_current_timestamp: long (nullable = true)\n",
      " |-- email: string (nullable = true)\n",
      " |-- employment: struct (nullable = true)\n",
      " |    |-- key_skill: string (nullable = true)\n",
      " |    |-- title: string (nullable = true)\n",
      " |-- first_name: string (nullable = true)\n",
      " |-- gender: string (nullable = true)\n",
      " |-- id: long (nullable = true)\n",
      " |-- last_name: string (nullable = true)\n",
      " |-- password: string (nullable = true)\n",
      " |-- phone_number: string (nullable = true)\n",
      " |-- social_insurance_number: string (nullable = true)\n",
      " |-- subscription: struct (nullable = true)\n",
      " |    |-- payment_method: string (nullable = true)\n",
      " |    |-- plan: string (nullable = true)\n",
      " |    |-- status: string (nullable = true)\n",
      " |    |-- term: string (nullable = true)\n",
      " |-- uid: string (nullable = true)\n",
      " |-- user_id: long (nullable = true)\n",
      " |-- username: string (nullable = true)\n",
      "\n"
     ]
    }
   ],
   "source": [
    "kdf_user.spark.print_schema()"
   ]
  },
  {
   "cell_type": "markdown",
   "id": "ab380eb6",
   "metadata": {},
   "source": [
    "### Processamento dos dados com [Koalas]"
   ]
  },
  {
   "cell_type": "markdown",
   "id": "e2b7338c",
   "metadata": {},
   "source": [
    "- Processamento e conversão do campo [dt_current_timestamp] de [long] para [datetime]"
   ]
  },
  {
   "cell_type": "code",
   "execution_count": 11,
   "id": "6d308998",
   "metadata": {},
   "outputs": [
    {
     "name": "stdout",
     "output_type": "stream",
     "text": [
      "CPU times: user 21.5 ms, sys: 8.74 ms, total: 30.3 ms\n",
      "Wall time: 203 ms\n"
     ]
    },
    {
     "name": "stderr",
     "output_type": "stream",
     "text": [
      "/Users/carlosbarbosa/opt/miniconda3/lib/python3.9/site-packages/pyspark/sql/pandas/functions.py:389: UserWarning: In Python 3.6+ and Spark 3.0+, it is preferred to specify type hints for pandas UDF instead of specifying pandas UDF type which will be deprecated in the future releases. See SPARK-28264 for more details.\n",
      "  warnings.warn(\n"
     ]
    }
   ],
   "source": [
    "%%time\n",
    "kdf_bank = kdf_bank.assign(dt_current_timestamp = ks.to_datetime(kdf_bank.dt_current_timestamp))\n",
    "kdf_user = kdf_user.assign(dt_current_timestamp = ks.to_datetime(kdf_user.dt_current_timestamp))"
   ]
  },
  {
   "cell_type": "markdown",
   "id": "f49fb5f9",
   "metadata": {},
   "source": [
    "- Verificando Correções"
   ]
  },
  {
   "cell_type": "code",
   "execution_count": 12,
   "id": "a7f21599",
   "metadata": {},
   "outputs": [
    {
     "data": {
      "text/plain": [
       "account_number              object\n",
       "bank_name                   object\n",
       "dt_current_timestamp    datetime64\n",
       "iban                        object\n",
       "id                           int64\n",
       "routing_number              object\n",
       "swift_bic                   object\n",
       "uid                         object\n",
       "user_id                      int64\n",
       "dtype: object"
      ]
     },
     "execution_count": 12,
     "metadata": {},
     "output_type": "execute_result"
    }
   ],
   "source": [
    "kdf_bank.dtypes"
   ]
  },
  {
   "cell_type": "code",
   "execution_count": 13,
   "id": "6b6195d8",
   "metadata": {},
   "outputs": [
    {
     "data": {
      "text/plain": [
       "address                        object\n",
       "avatar                         object\n",
       "credit_card                    object\n",
       "date_of_birth                  object\n",
       "dt_current_timestamp       datetime64\n",
       "email                          object\n",
       "employment                     object\n",
       "first_name                     object\n",
       "gender                         object\n",
       "id                              int64\n",
       "last_name                      object\n",
       "password                       object\n",
       "phone_number                   object\n",
       "social_insurance_number        object\n",
       "subscription                   object\n",
       "uid                            object\n",
       "user_id                         int64\n",
       "username                       object\n",
       "dtype: object"
      ]
     },
     "execution_count": 13,
     "metadata": {},
     "output_type": "execute_result"
    }
   ],
   "source": [
    "kdf_user.dtypes"
   ]
  },
  {
   "cell_type": "code",
   "execution_count": 14,
   "id": "38d07453",
   "metadata": {},
   "outputs": [
    {
     "data": {
      "text/html": [
       "<div>\n",
       "<style scoped>\n",
       "    .dataframe tbody tr th:only-of-type {\n",
       "        vertical-align: middle;\n",
       "    }\n",
       "\n",
       "    .dataframe tbody tr th {\n",
       "        vertical-align: top;\n",
       "    }\n",
       "\n",
       "    .dataframe thead th {\n",
       "        text-align: right;\n",
       "    }\n",
       "</style>\n",
       "<table border=\"1\" class=\"dataframe\">\n",
       "  <thead>\n",
       "    <tr style=\"text-align: right;\">\n",
       "      <th></th>\n",
       "      <th>address</th>\n",
       "      <th>avatar</th>\n",
       "      <th>credit_card</th>\n",
       "      <th>date_of_birth</th>\n",
       "      <th>dt_current_timestamp</th>\n",
       "      <th>email</th>\n",
       "      <th>employment</th>\n",
       "      <th>first_name</th>\n",
       "      <th>gender</th>\n",
       "      <th>id</th>\n",
       "      <th>last_name</th>\n",
       "      <th>password</th>\n",
       "      <th>phone_number</th>\n",
       "      <th>social_insurance_number</th>\n",
       "      <th>subscription</th>\n",
       "      <th>uid</th>\n",
       "      <th>user_id</th>\n",
       "      <th>username</th>\n",
       "    </tr>\n",
       "  </thead>\n",
       "  <tbody>\n",
       "    <tr>\n",
       "      <th>0</th>\n",
       "      <td>(Ismaelview, (85.4601189775, -42.5833978382), ...</td>\n",
       "      <td>https://robohash.org/aliquidnobiserror.png?siz...</td>\n",
       "      <td>(6771-8932-7326-9847,)</td>\n",
       "      <td>1995-03-19</td>\n",
       "      <td>1970-01-01 00:27:01.423978</td>\n",
       "      <td>leonardo.adams@email.com</td>\n",
       "      <td>(Organisation, Consulting Assistant)</td>\n",
       "      <td>Leonardo</td>\n",
       "      <td>Bigender</td>\n",
       "      <td>3707</td>\n",
       "      <td>Adams</td>\n",
       "      <td>W1nirBgqVT</td>\n",
       "      <td>+850 847.401.4566 x82887</td>\n",
       "      <td>196526628</td>\n",
       "      <td>(Money transfer, Essential, Idle, Annual)</td>\n",
       "      <td>5dcacedc-f75b-4568-872c-6cc2a71705f2</td>\n",
       "      <td>4965</td>\n",
       "      <td>leonardo.adams</td>\n",
       "    </tr>\n",
       "    <tr>\n",
       "      <th>1</th>\n",
       "      <td>(Lake Taisha, (-2.1984324156, 116.8514711846),...</td>\n",
       "      <td>https://robohash.org/delenitiasperioressit.png...</td>\n",
       "      <td>(4325-2108-3118-7252,)</td>\n",
       "      <td>1956-12-19</td>\n",
       "      <td>1970-01-01 00:27:01.423978</td>\n",
       "      <td>jarred.walker@email.com</td>\n",
       "      <td>(Confidence, Administration Agent)</td>\n",
       "      <td>Jarred</td>\n",
       "      <td>Polygender</td>\n",
       "      <td>4941</td>\n",
       "      <td>Walker</td>\n",
       "      <td>IihGFkrxTv</td>\n",
       "      <td>+53 181-453-3227 x5763</td>\n",
       "      <td>493978720</td>\n",
       "      <td>(Money transfer, Student, Idle, Full subscript...</td>\n",
       "      <td>5d8058ad-676b-4b89-b154-1e03bc675ede</td>\n",
       "      <td>8560</td>\n",
       "      <td>jarred.walker</td>\n",
       "    </tr>\n",
       "    <tr>\n",
       "      <th>2</th>\n",
       "      <td>(Cummingschester, (63.8048328901, -66.67869394...</td>\n",
       "      <td>https://robohash.org/velitnonid.png?size=300x3...</td>\n",
       "      <td>(6771-8980-3619-5908,)</td>\n",
       "      <td>1993-07-10</td>\n",
       "      <td>1970-01-01 00:27:01.423978</td>\n",
       "      <td>ezra.brown@email.com</td>\n",
       "      <td>(Problem solving, Regional Administrator)</td>\n",
       "      <td>Ezra</td>\n",
       "      <td>Male</td>\n",
       "      <td>3909</td>\n",
       "      <td>Brown</td>\n",
       "      <td>Xx6bYuMyFp</td>\n",
       "      <td>+27 1-673-818-7444 x01270</td>\n",
       "      <td>208208074</td>\n",
       "      <td>(Bitcoins, Free Trial, Idle, Annual)</td>\n",
       "      <td>ac909be8-949d-4b40-bffc-00ee1905cb90</td>\n",
       "      <td>4708</td>\n",
       "      <td>ezra.brown</td>\n",
       "    </tr>\n",
       "    <tr>\n",
       "      <th>3</th>\n",
       "      <td>(Port Aprilland, (-27.2462294931, -25.88720299...</td>\n",
       "      <td>https://robohash.org/facerenamtemporibus.png?s...</td>\n",
       "      <td>(6771-8933-3925-1805,)</td>\n",
       "      <td>1977-04-21</td>\n",
       "      <td>1970-01-01 00:27:01.423978</td>\n",
       "      <td>valda.jacobi@email.com</td>\n",
       "      <td>(Problem solving, National Legal Liaison)</td>\n",
       "      <td>Valda</td>\n",
       "      <td>Genderfluid</td>\n",
       "      <td>2531</td>\n",
       "      <td>Jacobi</td>\n",
       "      <td>zInlShuGdy</td>\n",
       "      <td>+356 1-136-227-8892 x457</td>\n",
       "      <td>626072177</td>\n",
       "      <td>(Cheque, Free Trial, Idle, Payment in advance)</td>\n",
       "      <td>e4fa182c-f9c4-4cfc-8185-0ff3ffdd3168</td>\n",
       "      <td>7462</td>\n",
       "      <td>valda.jacobi</td>\n",
       "    </tr>\n",
       "    <tr>\n",
       "      <th>4</th>\n",
       "      <td>(West Candelariaborough, (-65.3103387251, 167....</td>\n",
       "      <td>https://robohash.org/pariaturmagnilaboriosam.p...</td>\n",
       "      <td>(4708-0672-7336-6969,)</td>\n",
       "      <td>1959-05-18</td>\n",
       "      <td>1970-01-01 00:27:01.423978</td>\n",
       "      <td>russel.batz@email.com</td>\n",
       "      <td>(Organisation, Senior Facilitator)</td>\n",
       "      <td>Russel</td>\n",
       "      <td>Male</td>\n",
       "      <td>2609</td>\n",
       "      <td>Batz</td>\n",
       "      <td>2NaJpfWj8B</td>\n",
       "      <td>+39 800-778-2977</td>\n",
       "      <td>519832836</td>\n",
       "      <td>(Credit card, Gold, Pending, Payment in advance)</td>\n",
       "      <td>d6fb351c-9bea-43d4-aa24-ac79e4369e25</td>\n",
       "      <td>2359</td>\n",
       "      <td>russel.batz</td>\n",
       "    </tr>\n",
       "  </tbody>\n",
       "</table>\n",
       "</div>"
      ],
      "text/plain": [
       "                                                                                                                                   address                                                                  avatar             credit_card date_of_birth       dt_current_timestamp                     email                                 employment first_name       gender    id last_name    password               phone_number social_insurance_number                                        subscription                                   uid  user_id        username\n",
       "0                       (Ismaelview, (85.4601189775, -42.5833978382), United States, Arizona, 679 Micah Gardens, August Vista, 75162-6239)        https://robohash.org/aliquidnobiserror.png?size=300x300&set=set1  (6771-8932-7326-9847,)    1995-03-19 1970-01-01 00:27:01.423978  leonardo.adams@email.com       (Organisation, Consulting Assistant)   Leonardo     Bigender  3707     Adams  W1nirBgqVT   +850 847.401.4566 x82887               196526628           (Money transfer, Essential, Idle, Annual)  5dcacedc-f75b-4568-872c-6cc2a71705f2     4965  leonardo.adams\n",
       "1                          (Lake Taisha, (-2.1984324156, 116.8514711846), United States, Virginia, 545 Nichelle Place, Barrows Dam, 69778)    https://robohash.org/delenitiasperioressit.png?size=300x300&set=set1  (4325-2108-3118-7252,)    1956-12-19 1970-01-01 00:27:01.423978   jarred.walker@email.com         (Confidence, Administration Agent)     Jarred   Polygender  4941    Walker  IihGFkrxTv     +53 181-453-3227 x5763               493978720  (Money transfer, Student, Idle, Full subscription)  5d8058ad-676b-4b89-b154-1e03bc675ede     8560   jarred.walker\n",
       "2                     (Cummingschester, (63.8048328901, -66.678693947), United States, Georgia, 5873 Royal Avenue, O'Connell Place, 53885)               https://robohash.org/velitnonid.png?size=300x300&set=set1  (6771-8980-3619-5908,)    1993-07-10 1970-01-01 00:27:01.423978      ezra.brown@email.com  (Problem solving, Regional Administrator)       Ezra         Male  3909     Brown  Xx6bYuMyFp  +27 1-673-818-7444 x01270               208208074                (Bitcoins, Free Trial, Idle, Annual)  ac909be8-949d-4b40-bffc-00ee1905cb90     4708      ezra.brown\n",
       "3              (Port Aprilland, (-27.2462294931, -25.8872029973), United States, New Jersey, 132 Elvis Avenue, Maxwell Stream, 15895-6351)      https://robohash.org/facerenamtemporibus.png?size=300x300&set=set1  (6771-8933-3925-1805,)    1977-04-21 1970-01-01 00:27:01.423978    valda.jacobi@email.com  (Problem solving, National Legal Liaison)      Valda  Genderfluid  2531    Jacobi  zInlShuGdy   +356 1-136-227-8892 x457               626072177      (Cheque, Free Trial, Idle, Payment in advance)  e4fa182c-f9c4-4cfc-8185-0ff3ffdd3168     7462    valda.jacobi\n",
       "4  (West Candelariaborough, (-65.3103387251, 167.3336162105), United States, Idaho, 64084 O'Hara Junction, Margherita Circles, 23059-5740)  https://robohash.org/pariaturmagnilaboriosam.png?size=300x300&set=set1  (4708-0672-7336-6969,)    1959-05-18 1970-01-01 00:27:01.423978     russel.batz@email.com         (Organisation, Senior Facilitator)     Russel         Male  2609      Batz  2NaJpfWj8B           +39 800-778-2977               519832836    (Credit card, Gold, Pending, Payment in advance)  d6fb351c-9bea-43d4-aa24-ac79e4369e25     2359     russel.batz"
      ]
     },
     "execution_count": 14,
     "metadata": {},
     "output_type": "execute_result"
    }
   ],
   "source": [
    "kdf_user.head()"
   ]
  },
  {
   "cell_type": "markdown",
   "id": "01ab0956",
   "metadata": {},
   "source": [
    "- Criando um array de colunas para selecionar no kdf_user"
   ]
  },
  {
   "cell_type": "code",
   "execution_count": 15,
   "id": "70e4ea66",
   "metadata": {},
   "outputs": [],
   "source": [
    "cols = [\"user_id\",\"username\",\"first_name\", \"last_name\", \"date_of_birth\", \"gender\", \"phone_number\"]"
   ]
  },
  {
   "cell_type": "markdown",
   "id": "0e8ca726",
   "metadata": {},
   "source": [
    "- Selecionando as colunas do array cols para o DataFrame kdf_user"
   ]
  },
  {
   "cell_type": "code",
   "execution_count": 16,
   "id": "ea5f531c",
   "metadata": {},
   "outputs": [
    {
     "data": {
      "text/plain": [
       "Index(['user_id', 'username', 'first_name', 'last_name', 'date_of_birth',\n",
       "       'gender', 'phone_number'],\n",
       "      dtype='object')"
      ]
     },
     "execution_count": 16,
     "metadata": {},
     "output_type": "execute_result"
    }
   ],
   "source": [
    "kdf_user = kdf_user.loc[:,(cols)]\n",
    "kdf_user.columns"
   ]
  },
  {
   "cell_type": "markdown",
   "id": "c904e460",
   "metadata": {},
   "source": [
    "- Realiza join através da chave user_id e específica o prefixo a ser colocado no DataFrame da esquerda e na direita do join, tudo que pertencer ao DataFrame da esquerda [kdf_user] terá o prefixo _left, o mesmo serve para o DataFrame da direita [kdf_bank], porém tudo terá o prefixo _right"
   ]
  },
  {
   "cell_type": "code",
   "execution_count": 17,
   "id": "ee46dbea",
   "metadata": {},
   "outputs": [],
   "source": [
    "kdf_user_bank = kdf_user.join(kdf_bank, lsuffix=\"_left\", rsuffix=\"_right\")"
   ]
  },
  {
   "cell_type": "markdown",
   "id": "a486f663",
   "metadata": {},
   "source": [
    "- Verfifica se as chaves foram criadas"
   ]
  },
  {
   "cell_type": "code",
   "execution_count": 18,
   "id": "6270fe14",
   "metadata": {},
   "outputs": [
    {
     "data": {
      "text/html": [
       "<div>\n",
       "<style scoped>\n",
       "    .dataframe tbody tr th:only-of-type {\n",
       "        vertical-align: middle;\n",
       "    }\n",
       "\n",
       "    .dataframe tbody tr th {\n",
       "        vertical-align: top;\n",
       "    }\n",
       "\n",
       "    .dataframe thead th {\n",
       "        text-align: right;\n",
       "    }\n",
       "</style>\n",
       "<table border=\"1\" class=\"dataframe\">\n",
       "  <thead>\n",
       "    <tr style=\"text-align: right;\">\n",
       "      <th></th>\n",
       "      <th>user_id_left</th>\n",
       "      <th>user_id_right</th>\n",
       "    </tr>\n",
       "  </thead>\n",
       "  <tbody>\n",
       "    <tr>\n",
       "      <th>0</th>\n",
       "      <td>4965</td>\n",
       "      <td>5641</td>\n",
       "    </tr>\n",
       "  </tbody>\n",
       "</table>\n",
       "</div>"
      ],
      "text/plain": [
       "   user_id_left  user_id_right\n",
       "0          4965           5641"
      ]
     },
     "execution_count": 18,
     "metadata": {},
     "output_type": "execute_result"
    }
   ],
   "source": [
    "kdf_user_bank.loc[:,[\"user_id_left\",\"user_id_right\"]].head(1)"
   ]
  },
  {
   "cell_type": "code",
   "execution_count": 19,
   "id": "86dcff58",
   "metadata": {},
   "outputs": [
    {
     "data": {
      "text/html": [
       "<div>\n",
       "<style scoped>\n",
       "    .dataframe tbody tr th:only-of-type {\n",
       "        vertical-align: middle;\n",
       "    }\n",
       "\n",
       "    .dataframe tbody tr th {\n",
       "        vertical-align: top;\n",
       "    }\n",
       "\n",
       "    .dataframe thead th {\n",
       "        text-align: right;\n",
       "    }\n",
       "</style>\n",
       "<table border=\"1\" class=\"dataframe\">\n",
       "  <thead>\n",
       "    <tr style=\"text-align: right;\">\n",
       "      <th></th>\n",
       "      <th>user_id_left</th>\n",
       "      <th>username</th>\n",
       "      <th>first_name</th>\n",
       "      <th>last_name</th>\n",
       "      <th>date_of_birth</th>\n",
       "      <th>gender</th>\n",
       "      <th>phone_number</th>\n",
       "      <th>account_number</th>\n",
       "      <th>bank_name</th>\n",
       "      <th>dt_current_timestamp</th>\n",
       "      <th>iban</th>\n",
       "      <th>id</th>\n",
       "      <th>routing_number</th>\n",
       "      <th>swift_bic</th>\n",
       "      <th>uid</th>\n",
       "      <th>user_id_right</th>\n",
       "    </tr>\n",
       "  </thead>\n",
       "  <tbody>\n",
       "    <tr>\n",
       "      <th>0</th>\n",
       "      <td>4965</td>\n",
       "      <td>leonardo.adams</td>\n",
       "      <td>Leonardo</td>\n",
       "      <td>Adams</td>\n",
       "      <td>1995-03-19</td>\n",
       "      <td>Bigender</td>\n",
       "      <td>+850 847.401.4566 x82887</td>\n",
       "      <td>0267608433</td>\n",
       "      <td>ABN AMRO CORPORATE FINANCE LIMITED</td>\n",
       "      <td>1970-01-01 00:26:59.454485</td>\n",
       "      <td>GB78DZFZ38063088452320</td>\n",
       "      <td>1957</td>\n",
       "      <td>295965484</td>\n",
       "      <td>BSABGB2LXXX</td>\n",
       "      <td>8b3f376b-0adf-4f86-bb40-6aa2d8ba708d</td>\n",
       "      <td>5641</td>\n",
       "    </tr>\n",
       "    <tr>\n",
       "      <th>1</th>\n",
       "      <td>8560</td>\n",
       "      <td>jarred.walker</td>\n",
       "      <td>Jarred</td>\n",
       "      <td>Walker</td>\n",
       "      <td>1956-12-19</td>\n",
       "      <td>Polygender</td>\n",
       "      <td>+53 181-453-3227 x5763</td>\n",
       "      <td>7052327864</td>\n",
       "      <td>ABN AMRO HOARE GOVETT SECURITIES</td>\n",
       "      <td>1970-01-01 00:26:59.454485</td>\n",
       "      <td>GB29ZZRW63422245133877</td>\n",
       "      <td>4911</td>\n",
       "      <td>274059719</td>\n",
       "      <td>AAFMGB21</td>\n",
       "      <td>0bb4c571-a21d-4616-9d8f-0b5ba0bd7868</td>\n",
       "      <td>3006</td>\n",
       "    </tr>\n",
       "    <tr>\n",
       "      <th>2</th>\n",
       "      <td>4708</td>\n",
       "      <td>ezra.brown</td>\n",
       "      <td>Ezra</td>\n",
       "      <td>Brown</td>\n",
       "      <td>1993-07-10</td>\n",
       "      <td>Male</td>\n",
       "      <td>+27 1-673-818-7444 x01270</td>\n",
       "      <td>3296123731</td>\n",
       "      <td>ABINGWORTH MANAGEMENT LIMITED</td>\n",
       "      <td>1970-01-01 00:26:59.454485</td>\n",
       "      <td>GB27LPUN51436522350891</td>\n",
       "      <td>5275</td>\n",
       "      <td>314786939</td>\n",
       "      <td>BSABGB2LXXX</td>\n",
       "      <td>c3d9ea2c-5e58-4164-b9cf-a84bc4ebc377</td>\n",
       "      <td>9348</td>\n",
       "    </tr>\n",
       "    <tr>\n",
       "      <th>3</th>\n",
       "      <td>7462</td>\n",
       "      <td>valda.jacobi</td>\n",
       "      <td>Valda</td>\n",
       "      <td>Jacobi</td>\n",
       "      <td>1977-04-21</td>\n",
       "      <td>Genderfluid</td>\n",
       "      <td>+356 1-136-227-8892 x457</td>\n",
       "      <td>3455902680</td>\n",
       "      <td>UBS CLEARING AND EXECUTION SERVICES LIMITED</td>\n",
       "      <td>1970-01-01 00:26:59.454485</td>\n",
       "      <td>GB84VPOW30351189216558</td>\n",
       "      <td>7312</td>\n",
       "      <td>256999143</td>\n",
       "      <td>AIBKGB2XTSY</td>\n",
       "      <td>c188b6ac-e5da-4c94-b0c2-5451cbe3a28d</td>\n",
       "      <td>4920</td>\n",
       "    </tr>\n",
       "    <tr>\n",
       "      <th>4</th>\n",
       "      <td>2359</td>\n",
       "      <td>russel.batz</td>\n",
       "      <td>Russel</td>\n",
       "      <td>Batz</td>\n",
       "      <td>1959-05-18</td>\n",
       "      <td>Male</td>\n",
       "      <td>+39 800-778-2977</td>\n",
       "      <td>6799197420</td>\n",
       "      <td>ABN AMRO QUOTED INVESTMENTS (UK) LIMITED</td>\n",
       "      <td>1970-01-01 00:26:59.454485</td>\n",
       "      <td>GB73LSLX97621314346559</td>\n",
       "      <td>1428</td>\n",
       "      <td>219280860</td>\n",
       "      <td>BOFAGB22SEC</td>\n",
       "      <td>72a2f0eb-657b-477b-98d3-6e731afe04a4</td>\n",
       "      <td>9612</td>\n",
       "    </tr>\n",
       "  </tbody>\n",
       "</table>\n",
       "</div>"
      ],
      "text/plain": [
       "   user_id_left        username first_name last_name date_of_birth       gender               phone_number account_number                                    bank_name       dt_current_timestamp                    iban    id routing_number    swift_bic                                   uid  user_id_right\n",
       "0          4965  leonardo.adams   Leonardo     Adams    1995-03-19     Bigender   +850 847.401.4566 x82887     0267608433           ABN AMRO CORPORATE FINANCE LIMITED 1970-01-01 00:26:59.454485  GB78DZFZ38063088452320  1957      295965484  BSABGB2LXXX  8b3f376b-0adf-4f86-bb40-6aa2d8ba708d           5641\n",
       "1          8560   jarred.walker     Jarred    Walker    1956-12-19   Polygender     +53 181-453-3227 x5763     7052327864             ABN AMRO HOARE GOVETT SECURITIES 1970-01-01 00:26:59.454485  GB29ZZRW63422245133877  4911      274059719     AAFMGB21  0bb4c571-a21d-4616-9d8f-0b5ba0bd7868           3006\n",
       "2          4708      ezra.brown       Ezra     Brown    1993-07-10         Male  +27 1-673-818-7444 x01270     3296123731                ABINGWORTH MANAGEMENT LIMITED 1970-01-01 00:26:59.454485  GB27LPUN51436522350891  5275      314786939  BSABGB2LXXX  c3d9ea2c-5e58-4164-b9cf-a84bc4ebc377           9348\n",
       "3          7462    valda.jacobi      Valda    Jacobi    1977-04-21  Genderfluid   +356 1-136-227-8892 x457     3455902680  UBS CLEARING AND EXECUTION SERVICES LIMITED 1970-01-01 00:26:59.454485  GB84VPOW30351189216558  7312      256999143  AIBKGB2XTSY  c188b6ac-e5da-4c94-b0c2-5451cbe3a28d           4920\n",
       "4          2359     russel.batz     Russel      Batz    1959-05-18         Male           +39 800-778-2977     6799197420     ABN AMRO QUOTED INVESTMENTS (UK) LIMITED 1970-01-01 00:26:59.454485  GB73LSLX97621314346559  1428      219280860  BOFAGB22SEC  72a2f0eb-657b-477b-98d3-6e731afe04a4           9612"
      ]
     },
     "execution_count": 19,
     "metadata": {},
     "output_type": "execute_result"
    }
   ],
   "source": [
    "kdf_user_bank.head()"
   ]
  },
  {
   "cell_type": "markdown",
   "id": "18d900f9",
   "metadata": {},
   "source": [
    "### Utilizando [SQL] no [Koalas]"
   ]
  },
  {
   "cell_type": "code",
   "execution_count": 20,
   "id": "7f7888bd",
   "metadata": {},
   "outputs": [
    {
     "data": {
      "text/plain": [
       "Index(['user_id', 'username', 'first_name', 'last_name', 'date_of_birth',\n",
       "       'gender', 'phone_number'],\n",
       "      dtype='object')"
      ]
     },
     "execution_count": 20,
     "metadata": {},
     "output_type": "execute_result"
    }
   ],
   "source": [
    "kdf_user.columns"
   ]
  },
  {
   "cell_type": "code",
   "execution_count": 21,
   "id": "58bd666f",
   "metadata": {},
   "outputs": [
    {
     "data": {
      "text/html": [
       "<div>\n",
       "<style scoped>\n",
       "    .dataframe tbody tr th:only-of-type {\n",
       "        vertical-align: middle;\n",
       "    }\n",
       "\n",
       "    .dataframe tbody tr th {\n",
       "        vertical-align: top;\n",
       "    }\n",
       "\n",
       "    .dataframe thead th {\n",
       "        text-align: right;\n",
       "    }\n",
       "</style>\n",
       "<table border=\"1\" class=\"dataframe\">\n",
       "  <thead>\n",
       "    <tr style=\"text-align: right;\">\n",
       "      <th></th>\n",
       "      <th>user_id</th>\n",
       "      <th>full_name</th>\n",
       "      <th>date_of_birth</th>\n",
       "      <th>age</th>\n",
       "      <th>age_category</th>\n",
       "    </tr>\n",
       "  </thead>\n",
       "  <tbody>\n",
       "    <tr>\n",
       "      <th>0</th>\n",
       "      <td>4965</td>\n",
       "      <td>Leonardo Adams</td>\n",
       "      <td>1995-03-19</td>\n",
       "      <td>26</td>\n",
       "      <td>adult</td>\n",
       "    </tr>\n",
       "    <tr>\n",
       "      <th>1</th>\n",
       "      <td>8560</td>\n",
       "      <td>Jarred Walker</td>\n",
       "      <td>1956-12-19</td>\n",
       "      <td>64</td>\n",
       "      <td>elder</td>\n",
       "    </tr>\n",
       "    <tr>\n",
       "      <th>2</th>\n",
       "      <td>4708</td>\n",
       "      <td>Ezra Brown</td>\n",
       "      <td>1993-07-10</td>\n",
       "      <td>28</td>\n",
       "      <td>adult</td>\n",
       "    </tr>\n",
       "    <tr>\n",
       "      <th>3</th>\n",
       "      <td>7462</td>\n",
       "      <td>Valda Jacobi</td>\n",
       "      <td>1977-04-21</td>\n",
       "      <td>44</td>\n",
       "      <td>adult</td>\n",
       "    </tr>\n",
       "    <tr>\n",
       "      <th>4</th>\n",
       "      <td>2359</td>\n",
       "      <td>Russel Batz</td>\n",
       "      <td>1959-05-18</td>\n",
       "      <td>62</td>\n",
       "      <td>elder</td>\n",
       "    </tr>\n",
       "  </tbody>\n",
       "</table>\n",
       "</div>"
      ],
      "text/plain": [
       "   user_id       full_name date_of_birth age age_category\n",
       "0     4965  Leonardo Adams    1995-03-19  26        adult\n",
       "1     8560   Jarred Walker    1956-12-19  64        elder\n",
       "2     4708      Ezra Brown    1993-07-10  28        adult\n",
       "3     7462    Valda Jacobi    1977-04-21  44        adult\n",
       "4     2359     Russel Batz    1959-05-18  62        elder"
      ]
     },
     "execution_count": 21,
     "metadata": {},
     "output_type": "execute_result"
    }
   ],
   "source": [
    "ks.sql(\"\"\"\n",
    "        select\n",
    "            user_id,\n",
    "            concat(kub.first_name,' ', kub.last_name) as full_name, \n",
    "            kub.date_of_birth,\n",
    "            floor(datediff(now(),date_of_birth)/365.25) as age,\n",
    "            CASE \n",
    "                WHEN floor(datediff(now(),date_of_birth)/365.25) <= 21 THEN 'young' \n",
    "                WHEN floor(datediff(now(),date_of_birth)/365.25) <= 51 THEN 'adult'\n",
    "                ELSE 'elder' end as age_category\n",
    "        from \n",
    "            {kdf_user} as kub\n",
    "        \"\"\").head()"
   ]
  },
  {
   "cell_type": "code",
   "execution_count": 22,
   "id": "94a54972",
   "metadata": {},
   "outputs": [],
   "source": [
    "bound1 = [\"Leonardo\", \"Ezra\", \"Russel\"]"
   ]
  },
  {
   "cell_type": "markdown",
   "id": "29102500",
   "metadata": {},
   "source": [
    "- Recebendo uma lista de valores como parametro no ks.sql"
   ]
  },
  {
   "cell_type": "code",
   "execution_count": 23,
   "id": "d921b371",
   "metadata": {},
   "outputs": [
    {
     "data": {
      "text/plain": [
       "['Leonardo', 'Ezra', 'Russel']"
      ]
     },
     "execution_count": 23,
     "metadata": {},
     "output_type": "execute_result"
    }
   ],
   "source": [
    "bound1"
   ]
  },
  {
   "cell_type": "code",
   "execution_count": 24,
   "id": "1718d0c6",
   "metadata": {},
   "outputs": [
    {
     "data": {
      "text/html": [
       "<div>\n",
       "<style scoped>\n",
       "    .dataframe tbody tr th:only-of-type {\n",
       "        vertical-align: middle;\n",
       "    }\n",
       "\n",
       "    .dataframe tbody tr th {\n",
       "        vertical-align: top;\n",
       "    }\n",
       "\n",
       "    .dataframe thead th {\n",
       "        text-align: right;\n",
       "    }\n",
       "</style>\n",
       "<table border=\"1\" class=\"dataframe\">\n",
       "  <thead>\n",
       "    <tr style=\"text-align: right;\">\n",
       "      <th></th>\n",
       "      <th>user_id</th>\n",
       "      <th>username</th>\n",
       "      <th>first_name</th>\n",
       "      <th>last_name</th>\n",
       "      <th>date_of_birth</th>\n",
       "      <th>gender</th>\n",
       "      <th>phone_number</th>\n",
       "    </tr>\n",
       "  </thead>\n",
       "  <tbody>\n",
       "    <tr>\n",
       "      <th>0</th>\n",
       "      <td>4965</td>\n",
       "      <td>leonardo.adams</td>\n",
       "      <td>Leonardo</td>\n",
       "      <td>Adams</td>\n",
       "      <td>1995-03-19</td>\n",
       "      <td>Bigender</td>\n",
       "      <td>+850 847.401.4566 x82887</td>\n",
       "    </tr>\n",
       "    <tr>\n",
       "      <th>1</th>\n",
       "      <td>4708</td>\n",
       "      <td>ezra.brown</td>\n",
       "      <td>Ezra</td>\n",
       "      <td>Brown</td>\n",
       "      <td>1993-07-10</td>\n",
       "      <td>Male</td>\n",
       "      <td>+27 1-673-818-7444 x01270</td>\n",
       "    </tr>\n",
       "    <tr>\n",
       "      <th>2</th>\n",
       "      <td>2359</td>\n",
       "      <td>russel.batz</td>\n",
       "      <td>Russel</td>\n",
       "      <td>Batz</td>\n",
       "      <td>1959-05-18</td>\n",
       "      <td>Male</td>\n",
       "      <td>+39 800-778-2977</td>\n",
       "    </tr>\n",
       "  </tbody>\n",
       "</table>\n",
       "</div>"
      ],
      "text/plain": [
       "   user_id        username first_name last_name date_of_birth    gender               phone_number\n",
       "0     4965  leonardo.adams   Leonardo     Adams    1995-03-19  Bigender   +850 847.401.4566 x82887\n",
       "1     4708      ezra.brown       Ezra     Brown    1993-07-10      Male  +27 1-673-818-7444 x01270\n",
       "2     2359     russel.batz     Russel      Batz    1959-05-18      Male           +39 800-778-2977"
      ]
     },
     "execution_count": 24,
     "metadata": {},
     "output_type": "execute_result"
    }
   ],
   "source": [
    "ks.sql(\"\"\"select * from {kdf_user} as kub where kub.first_name in {bound1}\"\"\")"
   ]
  },
  {
   "cell_type": "markdown",
   "id": "ee922758",
   "metadata": {},
   "source": [
    "- Utilizando o parametro método query para realizar sql no DataFrame kdf_user"
   ]
  },
  {
   "cell_type": "code",
   "execution_count": 25,
   "id": "58991635",
   "metadata": {},
   "outputs": [
    {
     "data": {
      "text/html": [
       "<div>\n",
       "<style scoped>\n",
       "    .dataframe tbody tr th:only-of-type {\n",
       "        vertical-align: middle;\n",
       "    }\n",
       "\n",
       "    .dataframe tbody tr th {\n",
       "        vertical-align: top;\n",
       "    }\n",
       "\n",
       "    .dataframe thead th {\n",
       "        text-align: right;\n",
       "    }\n",
       "</style>\n",
       "<table border=\"1\" class=\"dataframe\">\n",
       "  <thead>\n",
       "    <tr style=\"text-align: right;\">\n",
       "      <th></th>\n",
       "      <th>user_id</th>\n",
       "      <th>username</th>\n",
       "      <th>first_name</th>\n",
       "      <th>last_name</th>\n",
       "      <th>date_of_birth</th>\n",
       "      <th>gender</th>\n",
       "      <th>phone_number</th>\n",
       "    </tr>\n",
       "  </thead>\n",
       "  <tbody>\n",
       "    <tr>\n",
       "      <th>0</th>\n",
       "      <td>4965</td>\n",
       "      <td>leonardo.adams</td>\n",
       "      <td>Leonardo</td>\n",
       "      <td>Adams</td>\n",
       "      <td>1995-03-19</td>\n",
       "      <td>Bigender</td>\n",
       "      <td>+850 847.401.4566 x82887</td>\n",
       "    </tr>\n",
       "  </tbody>\n",
       "</table>\n",
       "</div>"
      ],
      "text/plain": [
       "   user_id        username first_name last_name date_of_birth    gender              phone_number\n",
       "0     4965  leonardo.adams   Leonardo     Adams    1995-03-19  Bigender  +850 847.401.4566 x82887"
      ]
     },
     "execution_count": 25,
     "metadata": {},
     "output_type": "execute_result"
    }
   ],
   "source": [
    "kdf_user.query(\"user_id == 4965\")"
   ]
  },
  {
   "cell_type": "markdown",
   "id": "c725874c",
   "metadata": {},
   "source": [
    "- Utilizando UDF para realização de filtros no DataFrame [kdf_user]"
   ]
  },
  {
   "cell_type": "code",
   "execution_count": 26,
   "id": "7818d376",
   "metadata": {},
   "outputs": [],
   "source": [
    "def query_func(kdf):\n",
    "    user = [4965, 4708, 2359]\n",
    "    return kdf.query(\"user_id in (@user)\")"
   ]
  },
  {
   "cell_type": "code",
   "execution_count": 27,
   "id": "aa06d0c8",
   "metadata": {},
   "outputs": [
    {
     "data": {
      "text/html": [
       "<div>\n",
       "<style scoped>\n",
       "    .dataframe tbody tr th:only-of-type {\n",
       "        vertical-align: middle;\n",
       "    }\n",
       "\n",
       "    .dataframe tbody tr th {\n",
       "        vertical-align: top;\n",
       "    }\n",
       "\n",
       "    .dataframe thead th {\n",
       "        text-align: right;\n",
       "    }\n",
       "</style>\n",
       "<table border=\"1\" class=\"dataframe\">\n",
       "  <thead>\n",
       "    <tr style=\"text-align: right;\">\n",
       "      <th></th>\n",
       "      <th>user_id</th>\n",
       "      <th>username</th>\n",
       "      <th>first_name</th>\n",
       "      <th>last_name</th>\n",
       "      <th>date_of_birth</th>\n",
       "      <th>gender</th>\n",
       "      <th>phone_number</th>\n",
       "    </tr>\n",
       "  </thead>\n",
       "  <tbody>\n",
       "    <tr>\n",
       "      <th>0</th>\n",
       "      <td>4965</td>\n",
       "      <td>leonardo.adams</td>\n",
       "      <td>Leonardo</td>\n",
       "      <td>Adams</td>\n",
       "      <td>1995-03-19</td>\n",
       "      <td>Bigender</td>\n",
       "      <td>+850 847.401.4566 x82887</td>\n",
       "    </tr>\n",
       "    <tr>\n",
       "      <th>2</th>\n",
       "      <td>4708</td>\n",
       "      <td>ezra.brown</td>\n",
       "      <td>Ezra</td>\n",
       "      <td>Brown</td>\n",
       "      <td>1993-07-10</td>\n",
       "      <td>Male</td>\n",
       "      <td>+27 1-673-818-7444 x01270</td>\n",
       "    </tr>\n",
       "    <tr>\n",
       "      <th>4</th>\n",
       "      <td>2359</td>\n",
       "      <td>russel.batz</td>\n",
       "      <td>Russel</td>\n",
       "      <td>Batz</td>\n",
       "      <td>1959-05-18</td>\n",
       "      <td>Male</td>\n",
       "      <td>+39 800-778-2977</td>\n",
       "    </tr>\n",
       "    <tr>\n",
       "      <th>137</th>\n",
       "      <td>2359</td>\n",
       "      <td>earnestine.howe</td>\n",
       "      <td>Earnestine</td>\n",
       "      <td>Howe</td>\n",
       "      <td>1985-10-23</td>\n",
       "      <td>Genderfluid</td>\n",
       "      <td>+974 307.845.4870</td>\n",
       "    </tr>\n",
       "  </tbody>\n",
       "</table>\n",
       "</div>"
      ],
      "text/plain": [
       "     user_id         username  first_name last_name date_of_birth       gender               phone_number\n",
       "0       4965   leonardo.adams    Leonardo     Adams    1995-03-19     Bigender   +850 847.401.4566 x82887\n",
       "2       4708       ezra.brown        Ezra     Brown    1993-07-10         Male  +27 1-673-818-7444 x01270\n",
       "4       2359      russel.batz      Russel      Batz    1959-05-18         Male           +39 800-778-2977\n",
       "137     2359  earnestine.howe  Earnestine      Howe    1985-10-23  Genderfluid          +974 307.845.4870"
      ]
     },
     "execution_count": 27,
     "metadata": {},
     "output_type": "execute_result"
    }
   ],
   "source": [
    "kdf_user.koalas.apply_batch(query_func)"
   ]
  }
 ],
 "metadata": {
  "kernelspec": {
   "display_name": "Python 3",
   "language": "python",
   "name": "python3"
  },
  "language_info": {
   "codemirror_mode": {
    "name": "ipython",
    "version": 3
   },
   "file_extension": ".py",
   "mimetype": "text/x-python",
   "name": "python",
   "nbconvert_exporter": "python",
   "pygments_lexer": "ipython3",
   "version": "3.9.1"
  }
 },
 "nbformat": 4,
 "nbformat_minor": 5
}
